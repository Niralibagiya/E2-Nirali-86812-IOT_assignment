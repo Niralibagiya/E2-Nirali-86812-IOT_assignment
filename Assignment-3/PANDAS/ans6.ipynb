{
 "cells": [
  {
   "cell_type": "code",
   "execution_count": 2,
   "id": "6c72302d-2bcc-4873-bf9d-7819e16c57ed",
   "metadata": {},
   "outputs": [],
   "source": [
    "import numpy as np"
   ]
  },
  {
   "cell_type": "code",
   "execution_count": 3,
   "id": "d56e1cf7-86a3-4f99-bb75-658d17be24e9",
   "metadata": {},
   "outputs": [
    {
     "name": "stdout",
     "output_type": "stream",
     "text": [
      "-----------------size of array = int64----------------------\n",
      "[11 22 33 44 55]\n",
      "-----------------size of array = int32----------------------\n",
      "[11 22 33 44 55]\n",
      "-----------------size of array = int16----------------------\n",
      "[11 22 33 44 55]\n",
      "-----------------size of array = int8----------------------\n",
      "[11 22 33 44 55]\n"
     ]
    }
   ],
   "source": [
    "print(\"-----------------size of array = int64----------------------\")\n",
    "n1 = np.array([11,22,33,44,55])                                       #bydefualt int64\n",
    "print(n1)\n",
    "\n",
    "print(\"-----------------size of array = int32----------------------\")\n",
    "n2 = np.array([11,22,33,44,55],dtype = np.int32)\n",
    "print(n2)\n",
    "\n",
    "#change size (from int32 to int16)\n",
    "print(\"-----------------size of array = int16----------------------\")\n",
    "n3 = np.array([11,22,33,44,55],dtype = np.int16)\n",
    "print(n3)\n",
    "\n",
    "#change size (from int16 to int8)\n",
    "print(\"-----------------size of array = int8----------------------\")\n",
    "n4 = np.array([11,22,33,44,55],dtype = np.int8)\n",
    "print(n4)"
   ]
  },
  {
   "cell_type": "code",
   "execution_count": null,
   "id": "3b5c77c2-9ca0-40ea-a3c8-822915bd19d3",
   "metadata": {},
   "outputs": [],
   "source": []
  }
 ],
 "metadata": {
  "kernelspec": {
   "display_name": "Python 3 (ipykernel)",
   "language": "python",
   "name": "python3"
  },
  "language_info": {
   "codemirror_mode": {
    "name": "ipython",
    "version": 3
   },
   "file_extension": ".py",
   "mimetype": "text/x-python",
   "name": "python",
   "nbconvert_exporter": "python",
   "pygments_lexer": "ipython3",
   "version": "3.10.12"
  }
 },
 "nbformat": 4,
 "nbformat_minor": 5
}
