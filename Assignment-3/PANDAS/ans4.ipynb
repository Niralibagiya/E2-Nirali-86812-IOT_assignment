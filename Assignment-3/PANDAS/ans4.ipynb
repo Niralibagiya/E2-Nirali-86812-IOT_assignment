{
 "cells": [
  {
   "cell_type": "code",
   "execution_count": 1,
   "id": "d87b35e3-6ec1-4b03-8c3f-4354ece3ae58",
   "metadata": {},
   "outputs": [],
   "source": [
    "import pandas as pd"
   ]
  },
  {
   "cell_type": "code",
   "execution_count": 2,
   "id": "13fd5702-5bd8-4031-b16b-e18c8468957a",
   "metadata": {},
   "outputs": [
    {
     "name": "stdout",
     "output_type": "stream",
     "text": [
      "Original dictionary = {'a': 100, 'b': 200, 'c': 300, 'd': 400, 'e': 500}\n",
      "Converted into series = a    100\n",
      "b    200\n",
      "c    300\n",
      "d    400\n",
      "e    500\n",
      "dtype: int64\n"
     ]
    }
   ],
   "source": [
    "dict = {\"a\":100,\"b\":200,\"c\":300,\"d\":400,\"e\":500}\n",
    "print(f\"Original dictionary = {dict}\")\n",
    "\n",
    "new_series = pd.Series(dict)\n",
    "print(f\"Converted into series = {new_series}\")"
   ]
  },
  {
   "cell_type": "code",
   "execution_count": null,
   "id": "06f1d6ef-59d7-4714-b1d6-4e148487f46c",
   "metadata": {},
   "outputs": [],
   "source": []
  }
 ],
 "metadata": {
  "kernelspec": {
   "display_name": "Python 3 (ipykernel)",
   "language": "python",
   "name": "python3"
  },
  "language_info": {
   "codemirror_mode": {
    "name": "ipython",
    "version": 3
   },
   "file_extension": ".py",
   "mimetype": "text/x-python",
   "name": "python",
   "nbconvert_exporter": "python",
   "pygments_lexer": "ipython3",
   "version": "3.10.12"
  }
 },
 "nbformat": 4,
 "nbformat_minor": 5
}
