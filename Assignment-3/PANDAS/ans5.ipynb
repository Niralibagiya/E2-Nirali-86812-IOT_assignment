{
 "cells": [
  {
   "cell_type": "markdown",
   "id": "f791b5c8-155d-4c8d-8808-bc2182c67814",
   "metadata": {},
   "source": [
    "Write a Pandas program to convert a NumPy array to a Pandas series."
   ]
  },
  {
   "cell_type": "code",
   "execution_count": 1,
   "id": "a7fa212b-6fa0-462d-9260-8529e8b088b9",
   "metadata": {},
   "outputs": [],
   "source": [
    "import pandas as pd\n",
    "import numpy as np"
   ]
  },
  {
   "cell_type": "code",
   "execution_count": 2,
   "id": "34eec119-d646-46b5-8dcd-2fbbe1918ad5",
   "metadata": {},
   "outputs": [
    {
     "name": "stdout",
     "output_type": "stream",
     "text": [
      "Numpy array is :\n"
     ]
    },
    {
     "data": {
      "text/plain": [
       "array([10, 20,  1,  2,  3,  4,  5,  6,  7])"
      ]
     },
     "metadata": {},
     "output_type": "display_data"
    },
    {
     "name": "stdout",
     "output_type": "stream",
     "text": [
      "Pandas Series : \n"
     ]
    },
    {
     "data": {
      "text/plain": [
       "0    10\n",
       "1    20\n",
       "2     1\n",
       "3     2\n",
       "4     3\n",
       "5     4\n",
       "6     5\n",
       "7     6\n",
       "8     7\n",
       "dtype: int64"
      ]
     },
     "metadata": {},
     "output_type": "display_data"
    }
   ],
   "source": [
    "\n",
    "array = np.array([10, 20, 1, 2, 3, 4, 5, 6, 7]) \n",
    "print(\"Numpy array is :\") \n",
    "display(array) \n",
    "series = pd.Series(array) \n",
    "print(\"Pandas Series : \") \n",
    "display(series) \n"
   ]
  },
  {
   "cell_type": "code",
   "execution_count": null,
   "id": "3373866c-b2f5-4528-914b-bb84eee60d10",
   "metadata": {},
   "outputs": [],
   "source": []
  }
 ],
 "metadata": {
  "kernelspec": {
   "display_name": "Python 3 (ipykernel)",
   "language": "python",
   "name": "python3"
  },
  "language_info": {
   "codemirror_mode": {
    "name": "ipython",
    "version": 3
   },
   "file_extension": ".py",
   "mimetype": "text/x-python",
   "name": "python",
   "nbconvert_exporter": "python",
   "pygments_lexer": "ipython3",
   "version": "3.10.12"
  }
 },
 "nbformat": 4,
 "nbformat_minor": 5
}
