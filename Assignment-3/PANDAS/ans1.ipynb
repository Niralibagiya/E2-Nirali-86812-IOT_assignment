{
 "cells": [
  {
   "cell_type": "markdown",
   "id": "b5d90998-0654-4382-abee-488cad614c6d",
   "metadata": {},
   "source": [
    "1. Write a Pandas program to create and display a one-dimensional array-like object containing an array of data.\n"
   ]
  },
  {
   "cell_type": "code",
   "execution_count": 2,
   "id": "ab67f131-f479-423a-91c0-5302fbec6fdf",
   "metadata": {},
   "outputs": [
    {
     "name": "stdout",
     "output_type": "stream",
     "text": [
      "hyundai          i10\n",
      "kia            sonet\n",
      "bmw               x5\n",
      "merc         cla220d\n",
      "bmw               x7\n",
      "ford       endeavour\n",
      "dtype: object\n",
      "Series is hyundai          i10\n",
      "kia            sonet\n",
      "bmw               x5\n",
      "merc         cla220d\n",
      "bmw               x7\n",
      "ford       endeavour\n",
      "dtype: object\n"
     ]
    }
   ],
   "source": [
    "import numpy as np\n",
    "import pandas as pd\n",
    "def funct1():\n",
    "    s2 = pd.Series([\"i10\",\"sonet\",\"x5\",\"cla220d\",\"x7\" , \"endeavour\"],index=[\"hyundai\",\"kia\",\"bmw\",\"merc\",\"bmw\",\"ford\"])\n",
    "    print(s2)\n",
    "    print(f\"Series is {s2}\")\n",
    "\n",
    "funct1()"
   ]
  },
  {
   "cell_type": "code",
   "execution_count": null,
   "id": "7f813d47-6408-40b8-9317-54adde5f6bd2",
   "metadata": {},
   "outputs": [],
   "source": []
  }
 ],
 "metadata": {
  "kernelspec": {
   "display_name": "Python 3 (ipykernel)",
   "language": "python",
   "name": "python3"
  },
  "language_info": {
   "codemirror_mode": {
    "name": "ipython",
    "version": 3
   },
   "file_extension": ".py",
   "mimetype": "text/x-python",
   "name": "python",
   "nbconvert_exporter": "python",
   "pygments_lexer": "ipython3",
   "version": "3.10.12"
  }
 },
 "nbformat": 4,
 "nbformat_minor": 5
}
