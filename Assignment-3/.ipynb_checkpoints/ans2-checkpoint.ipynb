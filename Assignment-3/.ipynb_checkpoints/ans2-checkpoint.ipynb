{
 "cells": [
  {
   "cell_type": "code",
   "execution_count": 1,
   "id": "bc773dfd-983e-4656-b774-c40fee21d875",
   "metadata": {},
   "outputs": [],
   "source": [
    "import pandas as pd"
   ]
  },
  {
   "cell_type": "code",
   "execution_count": 5,
   "id": "8e01744b-c40e-4967-8dd6-f20b040896da",
   "metadata": {},
   "outputs": [
    {
     "name": "stdout",
     "output_type": "stream",
     "text": [
      "pandas series  = 0     2\n",
      "1     4\n",
      "2     6\n",
      "3     8\n",
      "4    10\n",
      "dtype: int64 & type = <class 'pandas.core.series.Series'>\n",
      "python list = [2, 4, 6, 8, 10] & type = <class 'list'>\n"
     ]
    }
   ],
   "source": [
    "s_series = pd.Series([2,4,6,8,10])\n",
    "print(f\"pandas series  = {s_series} & type = {type(s_series)}\")\n",
    "\n",
    "#conversion\n",
    "print(f\"python list = {s_series.tolist()} & type = {type(s_series.tolist())}\")\n"
   ]
  },
  {
   "cell_type": "code",
   "execution_count": null,
   "id": "9705b3f0-e500-4776-88ba-906f16497c03",
   "metadata": {},
   "outputs": [],
   "source": []
  }
 ],
 "metadata": {
  "kernelspec": {
   "display_name": "Python 3 (ipykernel)",
   "language": "python",
   "name": "python3"
  },
  "language_info": {
   "codemirror_mode": {
    "name": "ipython",
    "version": 3
   },
   "file_extension": ".py",
   "mimetype": "text/x-python",
   "name": "python",
   "nbconvert_exporter": "python",
   "pygments_lexer": "ipython3",
   "version": "3.10.12"
  }
 },
 "nbformat": 4,
 "nbformat_minor": 5
}
