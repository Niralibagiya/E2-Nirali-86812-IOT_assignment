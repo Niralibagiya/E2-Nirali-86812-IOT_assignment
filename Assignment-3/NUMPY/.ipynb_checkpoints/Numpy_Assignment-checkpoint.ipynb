{
 "cells": [
  {
   "cell_type": "code",
   "execution_count": 1,
   "id": "48e4eeaa-1c8c-47b4-996e-aa4baf8a8853",
   "metadata": {},
   "outputs": [],
   "source": [
    "import numpy as np"
   ]
  },
  {
   "cell_type": "markdown",
   "id": "d1c5bd8a-5ded-4266-9ec2-4d47c9e52b00",
   "metadata": {},
   "source": [
    "### ans 1)"
   ]
  },
  {
   "cell_type": "code",
   "execution_count": 3,
   "id": "2f14d79e-1fe3-486e-acf2-e7309667d387",
   "metadata": {},
   "outputs": [
    {
     "name": "stdout",
     "output_type": "stream",
     "text": [
      "Array = [  1   7  13 105]\n",
      "Type of array = <class 'numpy.ndarray'>\n",
      "Size of array : 4\n",
      "Size of item of array : 8\n",
      "Total ocuupied memory : 32\n"
     ]
    }
   ],
   "source": [
    "X = np.array([1, 7, 13, 105])\n",
    "\n",
    "print(f\"Array = {X}\")\n",
    "print(f\"Type of array = {type(X)}\")\n",
    "\n",
    "print(f\"Size of array : {X.size}\")\n",
    "print(f\"Size of item of array : {X.itemsize}\")\n",
    "print(f\"Total ocuupied memory : {X.nbytes}\")"
   ]
  },
  {
   "cell_type": "markdown",
   "id": "64c84325-d6f7-49b9-a5f9-0bc3b031318d",
   "metadata": {},
   "source": [
    "### ans 2)"
   ]
  },
  {
   "cell_type": "code",
   "execution_count": 4,
   "id": "43242b01-7652-4263-b6f3-37cd14cd4201",
   "metadata": {},
   "outputs": [
    {
     "name": "stdout",
     "output_type": "stream",
     "text": [
      "Original numbers:\n",
      "[3 5 7 9]\n",
      "[2 5 4 6]\n",
      "Comparison - greater\n",
      "[ True False  True  True]\n",
      "Comparison - greater_equal\n",
      "[ True  True  True  True]\n",
      "Comparison - less\n",
      "[False False False False]\n",
      "Comparison - less_equal\n",
      "[False  True False False]\n"
     ]
    }
   ],
   "source": [
    "x = np.array([3, 5, 7, 9])\n",
    "y = np.array([2, 5, 4, 6])\n",
    "\n",
    "print(\"Original numbers:\")\n",
    "print(x)\n",
    "print(y)\n",
    "\n",
    "print(\"Comparison - greater\")\n",
    "print(np.greater(x, y))\n",
    "\n",
    "print(\"Comparison - greater_equal\")\n",
    "print(np.greater_equal(x, y))\n",
    "\n",
    "print(\"Comparison - less\")\n",
    "print(np.less(x, y))\n",
    "\n",
    "print(\"Comparison - less_equal\")\n",
    "print(np.less_equal(x, y)) \n"
   ]
  },
  {
   "cell_type": "markdown",
   "id": "902be6e9-a4ce-4f64-a3d4-24d91f0187be",
   "metadata": {},
   "source": [
    "### ans 3)"
   ]
  },
  {
   "cell_type": "code",
   "execution_count": 12,
   "id": "d283853a-82c8-45a5-9d77-73ab3974760a",
   "metadata": {},
   "outputs": [
    {
     "name": "stdout",
     "output_type": "stream",
     "text": [
      "[0 0 0 0 0 0 0 0 0 0]\n",
      "[1 1 1 1 1 1 1 1 1 1]\n",
      "[5 5 5 5 5 5 5 5 5 5]\n",
      "[20 20 20 20 20 20 20 20 20 20]\n",
      "[50 50 50 50 50 50 50 50 50 50]\n"
     ]
    }
   ],
   "source": [
    "zeros_10 = np.zeros(10,dtype=np.int8)\n",
    "print(zeros_10)\n",
    "\n",
    "ones_10 = np.ones(10,dtype=np.int8)\n",
    "print(ones_10)\n",
    "\n",
    "five_10 = np.ones(10,dtype=np.int8)*5\n",
    "print(five_10)\n",
    "\n",
    "ten_20 = np.ones(10,dtype=np.int8)*20\n",
    "print(ten_20)\n",
    "\n",
    "ten_50 = np.ones(10,dtype=np.int8)*50\n",
    "print(ten_50)"
   ]
  },
  {
   "cell_type": "markdown",
   "id": "d4e8d6bb-e032-4abe-8225-383c4427f2bf",
   "metadata": {},
   "source": [
    "### ans 4)"
   ]
  },
  {
   "cell_type": "code",
   "execution_count": 13,
   "id": "d365c318-0c0d-4c6a-8c15-1897e59e1af8",
   "metadata": {},
   "outputs": [
    {
     "name": "stdout",
     "output_type": "stream",
     "text": [
      "Array of the integers from 30 to 70 = [30 31 32 33 34 35 36 37 38 39 40 41 42 43 44 45 46 47 48 49 50 51 52 53\n",
      " 54 55 56 57 58 59 60 61 62 63 64 65 66 67 68 69 70]\n"
     ]
    }
   ],
   "source": [
    "array = np.arange(30, 71)\n",
    "print(f\"Array of the integers from 30 to 70 = {array}\")\n",
    "\n"
   ]
  },
  {
   "cell_type": "markdown",
   "id": "d3edf8af-4057-4760-b5a4-f8b7409c9270",
   "metadata": {},
   "source": [
    "### ans 5)"
   ]
  },
  {
   "cell_type": "code",
   "execution_count": 14,
   "id": "681d3602-cec2-400f-b894-3f0bba515fd6",
   "metadata": {},
   "outputs": [
    {
     "name": "stdout",
     "output_type": "stream",
     "text": [
      "Array of the integers from 50 to 95 = [50 51 52 53 54 55 56 57 58 59 60 61 62 63 64 65 66 67 68 69 70 71 72 73\n",
      " 74 75 76 77 78 79 80 81 82 83 84 85 86 87 88 89 90 91 92 93 94]\n"
     ]
    }
   ],
   "source": [
    "array = np.arange(50,95)\n",
    "print(f\"Array of the integers from 50 to 95 = {array}\")"
   ]
  },
  {
   "cell_type": "markdown",
   "id": "1b675a3b-94ee-46e7-9ab3-9a7c3386de9f",
   "metadata": {},
   "source": [
    "### ans 6)"
   ]
  },
  {
   "cell_type": "code",
   "execution_count": 15,
   "id": "f9ce7996-1169-405b-b5e1-2775c5438ce0",
   "metadata": {},
   "outputs": [
    {
     "name": "stdout",
     "output_type": "stream",
     "text": [
      "Array of the even integers from 20 to 80 = [20 22 24 26 28 30 32 34 36 38 40 42 44 46 48 50 52 54 56 58 60 62 64 66\n",
      " 68 70 72 74 76 78]\n"
     ]
    }
   ],
   "source": [
    "array = np.arange(20,80,2)\n",
    "print(f\"Array of the even integers from 20 to 80 = {array}\")"
   ]
  },
  {
   "cell_type": "markdown",
   "id": "f6199515-daf6-4444-9d64-b60eebc23978",
   "metadata": {},
   "source": [
    "### ans 7)"
   ]
  },
  {
   "cell_type": "code",
   "execution_count": 17,
   "id": "50935f4b-dca7-4f01-b77e-957440da8809",
   "metadata": {},
   "outputs": [
    {
     "name": "stdout",
     "output_type": "stream",
     "text": [
      "[21 23 25 27 29 31 33 35 37 39 41 43 45 47 49 51 53 55 57 59 61 63 65 67\n",
      " 69 71 73 75 77 79]\n"
     ]
    }
   ],
   "source": [
    "array = np.arange(20,80)\n",
    "#print(f\"Array of the integers from 20 to 80 = {array}\")\n",
    "\n",
    "odd_int = array[array % 2 != 0]\n",
    "print(odd_int)"
   ]
  },
  {
   "cell_type": "markdown",
   "id": "f9ecc0c5-40ad-4ca6-9bb3-fb928763c8fc",
   "metadata": {},
   "source": [
    "### ans 8)"
   ]
  },
  {
   "cell_type": "code",
   "execution_count": 19,
   "id": "e264f28f-a439-4839-8188-e6b5e2f0505e",
   "metadata": {},
   "outputs": [
    {
     "name": "stdout",
     "output_type": "stream",
     "text": [
      "[15 38 24 22 11 18 10 28 21 30 31 17 29 24 35]\n"
     ]
    }
   ],
   "source": [
    "array = np.random.randint(10,40,15)\n",
    "print(array)"
   ]
  },
  {
   "cell_type": "markdown",
   "id": "feeaace8-e0a8-45de-b8e6-b5cf1fa90cdc",
   "metadata": {},
   "source": [
    "### ans 9)"
   ]
  },
  {
   "cell_type": "code",
   "execution_count": 20,
   "id": "6eda0f2f-da5b-42ff-8b73-e76aa3264392",
   "metadata": {},
   "outputs": [
    {
     "name": "stdout",
     "output_type": "stream",
     "text": [
      "[42 31 45 39 32 31 38 36 49 44]\n"
     ]
    }
   ],
   "source": [
    "array = np.random.randint(30,50,10)\n",
    "print(array)"
   ]
  },
  {
   "cell_type": "markdown",
   "id": "4c27d02a-2231-4e99-911c-b2b09a631998",
   "metadata": {},
   "source": [
    "### ans 10)"
   ]
  },
  {
   "cell_type": "code",
   "execution_count": 21,
   "id": "1b969730-2e0e-460f-9c2c-71069a7b07fd",
   "metadata": {},
   "outputs": [
    {
     "name": "stdout",
     "output_type": "stream",
     "text": [
      "[74 85 72 67 58 86 69 69 74 87 84 89 51 66 62 61 78 77 56 52]\n"
     ]
    }
   ],
   "source": [
    "array = np.random.randint(50,90,20)\n",
    "print(array)"
   ]
  },
  {
   "cell_type": "markdown",
   "id": "51fe21d0-276c-4ee5-8831-0248d3506f4c",
   "metadata": {},
   "source": [
    "### ans 11)\n"
   ]
  },
  {
   "cell_type": "code",
   "execution_count": 22,
   "id": "102c60cd-6eda-412d-b5b5-719b1dd84397",
   "metadata": {},
   "outputs": [
    {
     "name": "stdout",
     "output_type": "stream",
     "text": [
      "N1 = [11 22 33 44]\n",
      "N2 = [10 20 30 40]\n",
      "ADDITION OF N1+N2 = [21 42 63 84]\n",
      "SUBSTRACTION OF N1+N2 = [1 2 3 4]\n",
      "MULTIPLICATION OF N1+N2 = [ 110  440  990 1760]\n",
      "DIVISION OF N1+N2 = [1.1 1.1 1.1 1.1]\n"
     ]
    }
   ],
   "source": [
    "n1 = np.array([11,22,33,44])\n",
    "n2 = np.array([10,20,30,40])\n",
    "\n",
    "print(f\"N1 = {n1}\")\n",
    "print(f\"N2 = {n2}\")\n",
    "\n",
    "\n",
    "sum = n1+n2\n",
    "print(f\"ADDITION OF N1+N2 = {sum}\")\n",
    "\n",
    "sub = n1-n2\n",
    "print(f\"SUBSTRACTION OF N1+N2 = {sub}\")\n",
    "\n",
    "mul = n1*n2\n",
    "print(f\"MULTIPLICATION OF N1+N2 = {mul}\")\n",
    "\n",
    "div = n1/n2\n",
    "print(f\"DIVISION OF N1+N2 = {div}\")\n"
   ]
  },
  {
   "cell_type": "markdown",
   "id": "83e9dc02-233f-477a-a9f9-3ec0f127ac9c",
   "metadata": {},
   "source": [
    "### ans 12)"
   ]
  },
  {
   "cell_type": "code",
   "execution_count": 28,
   "id": "dd98d5f0-f5ed-4f3e-8a86-55a79d25794b",
   "metadata": {},
   "outputs": [
    {
     "name": "stdout",
     "output_type": "stream",
     "text": [
      "3x4 matrix filled with values from 10 to 21 \n",
      ":[[10 11 12 13]\n",
      " [14 15 16 17]\n",
      " [18 19 20 21]]\n"
     ]
    }
   ],
   "source": [
    "values = np.arange(10, 22)\n",
    "\n",
    "# Reshape the array into a 3x4 matrix\n",
    "matrix = values.reshape(3, 4)\n",
    "\n",
    "print(f\"3x4 matrix filled with values from 10 to 21 \\n:{matrix}\")\n"
   ]
  },
  {
   "cell_type": "markdown",
   "id": "c43b9738-279a-45ea-b291-0f75d7857dc4",
   "metadata": {},
   "source": [
    "### ans 13)"
   ]
  },
  {
   "cell_type": "code",
   "execution_count": 34,
   "id": "7b65d3f0-d3aa-4b49-901e-9b2e4a255ad2",
   "metadata": {},
   "outputs": [
    {
     "name": "stdout",
     "output_type": "stream",
     "text": [
      "3x3 Identity Matrix using np.identity()\n",
      ": [[1. 0. 0.]\n",
      " [0. 1. 0.]\n",
      " [0. 0. 1.]]\n"
     ]
    }
   ],
   "source": [
    "identity_matrix = np.identity(3)\n",
    "\n",
    "print(f\"3x3 Identity Matrix using np.identity()\\n: {identity_matrix}\")"
   ]
  },
  {
   "cell_type": "markdown",
   "id": "ff735757-40cb-4b3e-b872-91f1e616ba60",
   "metadata": {},
   "source": [
    "### ans 14)"
   ]
  },
  {
   "cell_type": "code",
   "execution_count": 35,
   "id": "aa804ecf-5d5a-4466-9fd8-7ae2b98c7b9a",
   "metadata": {},
   "outputs": [
    {
     "name": "stdout",
     "output_type": "stream",
     "text": [
      "Number of rows:3\n",
      "Number of columns:3\n"
     ]
    }
   ],
   "source": [
    "matrix = np.array([[1, 2, 3],\n",
    "                   [4, 5, 6],\n",
    "                   [7, 8, 9]])\n",
    "\n",
    "# Get the number of rows and columns\n",
    "rows, columns = matrix.shape\n",
    "\n",
    "# Print the results\n",
    "print(f\"Number of rows:{rows}\")\n",
    "print(f\"Number of columns:{columns}\")"
   ]
  },
  {
   "cell_type": "markdown",
   "id": "1c91b538-1733-4a59-8791-7ddb73ad1a0b",
   "metadata": {},
   "source": [
    "### ans 15)"
   ]
  },
  {
   "cell_type": "code",
   "execution_count": 38,
   "id": "088167bd-c6af-4aef-b946-195d5d2e39e3",
   "metadata": {},
   "outputs": [
    {
     "name": "stdout",
     "output_type": "stream",
     "text": [
      "MATRIX = [[1. 0. 0. 0. 0.]\n",
      " [0. 2. 0. 0. 0.]\n",
      " [0. 0. 3. 0. 0.]\n",
      " [0. 0. 0. 4. 0.]\n",
      " [0. 0. 0. 0. 5.]]\n"
     ]
    }
   ],
   "source": [
    "zero_matrix = np.zeros((5,5))\n",
    "dia_ele = np.array([1,2,3,4,5])\n",
    "np.fill_diagonal(zero_matrix,dia_ele)\n",
    "print(f\"MATRIX = {zero_matrix}\")"
   ]
  },
  {
   "cell_type": "markdown",
   "id": "93c40ace-eb4b-4366-87c6-24f62ef0ac0e",
   "metadata": {},
   "source": [
    "### ans 16)"
   ]
  },
  {
   "cell_type": "code",
   "execution_count": 39,
   "id": "3cb89007-955c-4cc0-a38e-2a25cb7fd49e",
   "metadata": {},
   "outputs": [
    {
     "name": "stdout",
     "output_type": "stream",
     "text": [
      "arbitory array = [[[0.29240089 0.03517214 0.71604078]\n",
      "  [0.25640382 0.46778025 0.91476728]\n",
      "  [0.68968552 0.76477252 0.84274707]]\n",
      "\n",
      " [[0.28898491 0.54021343 0.29963662]\n",
      "  [0.66272811 0.18325566 0.31786909]\n",
      "  [0.22203898 0.21612285 0.8569922 ]]\n",
      "\n",
      " [[0.53251749 0.46710244 0.2753025 ]\n",
      "  [0.35432757 0.70400806 0.49051313]\n",
      "  [0.15664775 0.17956169 0.66244824]]]\n"
     ]
    }
   ],
   "source": [
    "array = np.random.rand(3,3,3)\n",
    "print(f\"arbitory array = {array}\")"
   ]
  },
  {
   "cell_type": "markdown",
   "id": "cabdac11-8916-4d75-b0d7-2f669caf464a",
   "metadata": {},
   "source": [
    "### ans 17)"
   ]
  },
  {
   "cell_type": "code",
   "execution_count": 40,
   "id": "3df21a6a-203e-484d-a796-78a17946950a",
   "metadata": {},
   "outputs": [
    {
     "name": "stdout",
     "output_type": "stream",
     "text": [
      "arbitory array = [[[0.51441424 0.60863826 0.72068704 0.85363333]\n",
      "  [0.27318053 0.56769778 0.0971487  0.09232493]\n",
      "  [0.43119642 0.25701974 0.07831783 0.52156172]]\n",
      "\n",
      " [[0.33503967 0.13346536 0.34257405 0.80715304]\n",
      "  [0.56883852 0.12755455 0.94859583 0.96294209]\n",
      "  [0.36144799 0.23063052 0.11022728 0.18763569]]]\n"
     ]
    }
   ],
   "source": [
    "array = np.random.rand(2,3,4)\n",
    "print(f\"arbitory array = {array}\")"
   ]
  },
  {
   "cell_type": "markdown",
   "id": "257f7ee4-b5f7-45f0-9518-c49ecfee03a6",
   "metadata": {},
   "source": [
    "### ans 18)"
   ]
  },
  {
   "cell_type": "code",
   "execution_count": 42,
   "id": "6c94c378-062f-4233-bd4f-b9dbc8243150",
   "metadata": {},
   "outputs": [
    {
     "name": "stdout",
     "output_type": "stream",
     "text": [
      "List = [1, 2, 3, 4, 5, 6, 7]\n",
      "1D-Array = [1 2 3 4 5 6 7]\n"
     ]
    }
   ],
   "source": [
    "L1 = [1,2,3,4,5,6,7]\n",
    "print(f\"List = {L1}\")\n",
    "\n",
    "one_array = np.array(L1)\n",
    "print(f\"1D-Array = {one_array}\")"
   ]
  },
  {
   "cell_type": "markdown",
   "id": "1af98221-ac70-41bd-ba57-a4f52a89b7b6",
   "metadata": {},
   "source": [
    "### ans 19)"
   ]
  },
  {
   "cell_type": "code",
   "execution_count": 45,
   "id": "7ea89ebe-76ea-4932-bb9a-39cce3543e2b",
   "metadata": {},
   "outputs": [
    {
     "name": "stdout",
     "output_type": "stream",
     "text": [
      "matrix = [[ 2  3  4]\n",
      " [ 5  6  7]\n",
      " [ 8  9 10]]\n"
     ]
    }
   ],
   "source": [
    "matrix = np.arange(2,11).reshape(3,3)\n",
    "print(f\"matrix = {matrix}\")"
   ]
  },
  {
   "cell_type": "markdown",
   "id": "6035b90e-5e07-4f05-a337-6db4b3ae7dec",
   "metadata": {},
   "source": [
    "### ans 20)"
   ]
  },
  {
   "cell_type": "code",
   "execution_count": 48,
   "id": "8ce01b77-24bf-4e5e-a8ee-4f5ede6198e6",
   "metadata": {},
   "outputs": [
    {
     "name": "stdout",
     "output_type": "stream",
     "text": [
      "[12 13 14 15 16 17 18 19 20 21 22 23 24 25 26 27 28 29 30 31 32 33 34 35\n",
      " 36 37 38]\n"
     ]
    }
   ],
   "source": [
    "arr = np.arange(12,39)\n",
    "print(arr)"
   ]
  },
  {
   "cell_type": "markdown",
   "id": "e3e573d8-5930-4a0a-8998-170bb043c7d0",
   "metadata": {},
   "source": [
    "### ans 21)"
   ]
  },
  {
   "cell_type": "code",
   "execution_count": 50,
   "id": "461cfae0-a794-4f72-924f-6bff269186f7",
   "metadata": {},
   "outputs": [
    {
     "name": "stdout",
     "output_type": "stream",
     "text": [
      "original array = [1 2 3 4 5 6]\n",
      "reverse array = [6 5 4 3 2 1]\n"
     ]
    }
   ],
   "source": [
    "arr = np.array([1,2,3,4,5,6])\n",
    "print(f\"original array = {arr}\")\n",
    "rev_arr = arr[::-1]\n",
    "print(f\"reverse array = {rev_arr}\")"
   ]
  },
  {
   "cell_type": "markdown",
   "id": "e102958b-6dff-4ff8-b7ab-fbee1fa1786e",
   "metadata": {},
   "source": [
    "### ans 22)"
   ]
  },
  {
   "cell_type": "code",
   "execution_count": 53,
   "id": "150e129a-c59f-4197-8100-fdb208177901",
   "metadata": {},
   "outputs": [
    {
     "name": "stdout",
     "output_type": "stream",
     "text": [
      "int-array = [1 2 3 4 5]\n",
      "float-array = [1. 2. 3. 4. 5.]\n"
     ]
    }
   ],
   "source": [
    "int_array = np.array([1, 2, 3, 4, 5])\n",
    "print(f\"int-array = {int_array}\")\n",
    "\n",
    "# Convert the array to a floating-point type\n",
    "float_array = int_array.astype(float)\n",
    "print(f\"float-array = {float_array}\")\n"
   ]
  },
  {
   "cell_type": "markdown",
   "id": "7f81c35a-93ee-49bb-a4e9-653cfa642998",
   "metadata": {},
   "source": [
    "### ans 23)"
   ]
  },
  {
   "cell_type": "code",
   "execution_count": 54,
   "id": "7afa7189-94f5-4d6b-89e2-07a306cd0925",
   "metadata": {},
   "outputs": [
    {
     "name": "stdout",
     "output_type": "stream",
     "text": [
      "List = [10, 20, 30, 40, 50, 60]\n",
      "Array = [10 20 30 40 50 60]\n"
     ]
    }
   ],
   "source": [
    "L1 = [10,20,30,40,50,60]\n",
    "print(f\"List = {L1}\")\n",
    "array = np.array(L1)\n",
    "print(f\"Array = {array}\")"
   ]
  },
  {
   "cell_type": "markdown",
   "id": "b3f0d85e-9ec4-4a27-81d6-0f83b655ed4d",
   "metadata": {},
   "source": [
    "### ans 24)"
   ]
  },
  {
   "cell_type": "code",
   "execution_count": 56,
   "id": "55c51340-8ab1-4ab0-9afb-f1d0aee770c9",
   "metadata": {},
   "outputs": [
    {
     "name": "stdout",
     "output_type": "stream",
     "text": [
      "N1 = [11 22 33 44]\n",
      "N2 = [10 20 30 40]\n",
      "ele wise rem of divider = [1 2 3 4]\n"
     ]
    }
   ],
   "source": [
    "n1 = np.array([11,22,33,44])\n",
    "print(f\"N1 = {n1}\")\n",
    "n2 = np.array([10,20,30,40])\n",
    "print(f\"N2 = {n2}\")\n",
    "\n",
    "rem = np.remainder(n1,n2)\n",
    "print(f\"ele wise rem of divider = {rem}\")\n"
   ]
  },
  {
   "cell_type": "markdown",
   "id": "0b997bdb-d240-4830-934f-3c139a2cbe7a",
   "metadata": {},
   "source": [
    "### ans 25)"
   ]
  },
  {
   "cell_type": "code",
   "execution_count": 59,
   "id": "7fada0d4-bdbe-4d0f-879f-d9a143453c65",
   "metadata": {},
   "outputs": [
    {
     "name": "stdout",
     "output_type": "stream",
     "text": [
      "[20 21 22 23 24 25 26 27 28 29 30 31 32 33 34 35 36 37 38 39 40 41 42 43\n",
      " 44 45 46 47 48 49 50]\n",
      "[21 24 27 30 33 36 39 42 45 48]\n",
      "ele wise rem when divided by 3 = [0 0 0 0 0 0 0 0 0 0]\n"
     ]
    }
   ],
   "source": [
    "arr = np.arange(20,51)\n",
    "print(arr)\n",
    "dev = arr[arr % 3 == 0]\n",
    "print(dev)\n",
    "rem = np.remainder(dev,3)\n",
    "print(f\"ele wise rem when divided by 3 = {rem}\")"
   ]
  },
  {
   "cell_type": "code",
   "execution_count": null,
   "id": "bcaa864b-bead-4633-9c59-292a05be4acf",
   "metadata": {},
   "outputs": [],
   "source": []
  }
 ],
 "metadata": {
  "kernelspec": {
   "display_name": "Python 3 (ipykernel)",
   "language": "python",
   "name": "python3"
  },
  "language_info": {
   "codemirror_mode": {
    "name": "ipython",
    "version": 3
   },
   "file_extension": ".py",
   "mimetype": "text/x-python",
   "name": "python",
   "nbconvert_exporter": "python",
   "pygments_lexer": "ipython3",
   "version": "3.10.12"
  }
 },
 "nbformat": 4,
 "nbformat_minor": 5
}
